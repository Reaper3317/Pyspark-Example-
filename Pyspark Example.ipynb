{
 "cells": [
  {
   "cell_type": "code",
   "execution_count": 3,
   "id": "b285905a",
   "metadata": {},
   "outputs": [],
   "source": [
    "import os\n",
    "os.environ[\"JAVA_HOME\"] = \"C:\\Java\\jre1.8.0_333\"\n",
    "os.environ[\"SPARK_HOME\"] = \"C:\\Spark\\spark-3.2.1-bin-hadoop3.2\"\n"
   ]
  },
  {
   "cell_type": "code",
   "execution_count": 4,
   "id": "7aa0c19f",
   "metadata": {},
   "outputs": [],
   "source": [
    "import findspark\n",
    "findspark.init()\n",
    "from pyspark.sql import SparkSession\n",
    "spark = SparkSession.builder.master(\"local[*]\").getOrCreate()"
   ]
  },
  {
   "cell_type": "code",
   "execution_count": 9,
   "id": "5201e144",
   "metadata": {},
   "outputs": [
    {
     "data": {
      "text/plain": [
       "Row(_id=1, idx=0, vervar='ACEH', var='Angka Partisipasi Sekolah (APS)  ', tahun=2017, variable='SD', value='99.85')"
      ]
     },
     "execution_count": 9,
     "metadata": {},
     "output_type": "execute_result"
    }
   ],
   "source": [
    "dataset.head()"
   ]
  },
  {
   "cell_type": "code",
   "execution_count": 8,
   "id": "47c60d07",
   "metadata": {},
   "outputs": [
    {
     "name": "stdout",
     "output_type": "stream",
     "text": [
      "root\n",
      " |-- _id: integer (nullable = true)\n",
      " |-- idx: integer (nullable = true)\n",
      " |-- vervar: string (nullable = true)\n",
      " |-- var: string (nullable = true)\n",
      " |-- tahun: integer (nullable = true)\n",
      " |-- variable: string (nullable = true)\n",
      " |-- value: string (nullable = true)\n",
      "\n"
     ]
    }
   ],
   "source": [
    "dataset = spark.read.csv('C:/Users/dedededededededed/Downloads/LESSON/Materi Training Big Data/Modul_Day1/Lab/dataset_prep/sekolah.csv',inferSchema=True, header =True, sep=\",\")\n",
    "dataset.printSchema()"
   ]
  },
  {
   "cell_type": "code",
   "execution_count": 10,
   "id": "3b1686d6",
   "metadata": {},
   "outputs": [
    {
     "data": {
      "text/plain": [
       "['_id', 'idx', 'vervar', 'var', 'tahun', 'variable', 'value']"
      ]
     },
     "execution_count": 10,
     "metadata": {},
     "output_type": "execute_result"
    }
   ],
   "source": [
    "dataset.columns"
   ]
  },
  {
   "cell_type": "code",
   "execution_count": 11,
   "id": "0f9c0453",
   "metadata": {},
   "outputs": [
    {
     "data": {
      "text/plain": [
       "Row(vervar='ACEH', var='Angka Partisipasi Sekolah (APS)  ', tahun=2017, variable='SD', value='99.85')"
      ]
     },
     "execution_count": 11,
     "metadata": {},
     "output_type": "execute_result"
    }
   ],
   "source": [
    "dataset =dataset.drop(\"_id\",\"idx\")\n",
    "dataset.head()\n"
   ]
  },
  {
   "cell_type": "code",
   "execution_count": 12,
   "id": "57b78e53",
   "metadata": {},
   "outputs": [
    {
     "data": {
      "text/plain": [
       "['propinsi', 'var', 'tahun', 'variable', 'value']"
      ]
     },
     "execution_count": 12,
     "metadata": {},
     "output_type": "execute_result"
    }
   ],
   "source": [
    "dataset = dataset.withColumnRenamed('vervar','propinsi')\n",
    "dataset.columns\n"
   ]
  },
  {
   "cell_type": "code",
   "execution_count": 14,
   "id": "6fbec04a",
   "metadata": {},
   "outputs": [
    {
     "name": "stdout",
     "output_type": "stream",
     "text": [
      "+--------------+--------------------+-----+--------+-----+\n",
      "|      propinsi|                 var|tahun|variable|value|\n",
      "+--------------+--------------------+-----+--------+-----+\n",
      "|          ACEH|Angka Partisipasi...| 2017|      SD|99.85|\n",
      "|SUMATERA UTARA|Angka Partisipasi...| 2017|      SD|99.49|\n",
      "|SUMATERA BARAT|Angka Partisipasi...| 2017|      SD| 99.5|\n",
      "|          RIAU|Angka Partisipasi...| 2017|      SD|98.98|\n",
      "|         JAMBI|Angka Partisipasi...| 2017|      SD|99.59|\n",
      "+--------------+--------------------+-----+--------+-----+\n",
      "only showing top 5 rows\n",
      "\n"
     ]
    }
   ],
   "source": [
    "dataset.show(5)"
   ]
  },
  {
   "cell_type": "code",
   "execution_count": 15,
   "id": "4f70f3d7",
   "metadata": {},
   "outputs": [
    {
     "name": "stdout",
     "output_type": "stream",
     "text": [
      "+--------------+--------------------+-----+--------+-----+\n",
      "|      propinsi|                 var|tahun|variable|value|\n",
      "+--------------+--------------------+-----+--------+-----+\n",
      "|          ACEH|Angka Partisipasi...| 2017|      SD|99.85|\n",
      "|SUMATERA UTARA|Angka Partisipasi...| 2017|      SD|99.49|\n",
      "|SUMATERA BARAT|Angka Partisipasi...| 2017|      SD| 99.5|\n",
      "|          RIAU|Angka Partisipasi...| 2017|      SD|98.98|\n",
      "|         JAMBI|Angka Partisipasi...| 2017|      SD|99.59|\n",
      "+--------------+--------------------+-----+--------+-----+\n",
      "only showing top 5 rows\n",
      "\n",
      "None\n",
      "+----------------+--------------------+-----+--------+-----+\n",
      "|        propinsi|                 var|tahun|variable|value|\n",
      "+----------------+--------------------+-----+--------+-----+\n",
      "|  SUMATERA UTARA|Angka Partisipasi...| 2017|      SD|99.49|\n",
      "|  SUMATERA BARAT|Angka Partisipasi...| 2017|      SD| 99.5|\n",
      "|            RIAU|Angka Partisipasi...| 2017|      SD|98.98|\n",
      "|SUMATERA SELATAN|Angka Partisipasi...| 2017|      SD|99.63|\n",
      "|        BENGKULU|Angka Partisipasi...| 2017|      SD| 99.8|\n",
      "+----------------+--------------------+-----+--------+-----+\n",
      "only showing top 5 rows\n",
      "\n",
      "None\n"
     ]
    }
   ],
   "source": [
    "print(dataset.show(5))\n",
    "tmpds = dataset.filter(\"propinsi != 'ACEH' and propinsi != 'JAMBI'\")\n",
    "print(tmpds.show(5))"
   ]
  },
  {
   "cell_type": "code",
   "execution_count": 16,
   "id": "4d676758",
   "metadata": {},
   "outputs": [
    {
     "name": "stdout",
     "output_type": "stream",
     "text": [
      "+--------+-----+--------+-----+\n",
      "|propinsi|tahun|variable|count|\n",
      "+--------+-----+--------+-----+\n",
      "|   PAPUA| 2017|      PT|    2|\n",
      "|   PAPUA| 2017|      SD|    2|\n",
      "|   PAPUA| 2017|     SMP|    2|\n",
      "|   PAPUA| 2017|     SMA|    2|\n",
      "+--------+-----+--------+-----+\n",
      "\n"
     ]
    }
   ],
   "source": [
    "dataset.groupBy('propinsi','tahun','variable').count().filter('count > 1').show()"
   ]
  },
  {
   "cell_type": "code",
   "execution_count": 27,
   "id": "7d7cefe1",
   "metadata": {},
   "outputs": [],
   "source": [
    "data = dataset.dropDuplicates(['propinsi','tahun','variable'])"
   ]
  },
  {
   "cell_type": "code",
   "execution_count": 29,
   "id": "b1813dc7",
   "metadata": {},
   "outputs": [
    {
     "name": "stdout",
     "output_type": "stream",
     "text": [
      "+--------+-----+--------+-----+\n",
      "|propinsi|tahun|variable|count|\n",
      "+--------+-----+--------+-----+\n",
      "+--------+-----+--------+-----+\n",
      "\n"
     ]
    }
   ],
   "source": [
    "data.groupBy('propinsi','tahun','variable').count().filter('count > 1').show()"
   ]
  },
  {
   "cell_type": "code",
   "execution_count": 30,
   "id": "ab08ebd7",
   "metadata": {},
   "outputs": [
    {
     "name": "stdout",
     "output_type": "stream",
     "text": [
      "+-------------+--------------------+-----+--------+-----+\n",
      "|     propinsi|                 var|tahun|variable|value|\n",
      "+-------------+--------------------+-----+--------+-----+\n",
      "|DI YOGYAKARTA|Angka Partisipasi...| 2017|      SD| null|\n",
      "+-------------+--------------------+-----+--------+-----+\n",
      "\n"
     ]
    }
   ],
   "source": [
    "data.where('value is null').show()"
   ]
  },
  {
   "cell_type": "code",
   "execution_count": 32,
   "id": "1f60e940",
   "metadata": {},
   "outputs": [
    {
     "name": "stdout",
     "output_type": "stream",
     "text": [
      "+-------------+--------------------+-----+--------+-----+\n",
      "|     propinsi|                 var|tahun|variable|value|\n",
      "+-------------+--------------------+-----+--------+-----+\n",
      "|         ACEH|Angka Partisipasi...| 2017|      PT|34.28|\n",
      "|         ACEH|Angka Partisipasi...| 2017|      SD|99.85|\n",
      "|         ACEH|Angka Partisipasi...| 2017|     SMA|82.15|\n",
      "|         ACEH|Angka Partisipasi...| 2017|     SMP|98.09|\n",
      "|         BALI|Angka Partisipasi...| 2017|      PT|26.56|\n",
      "|         BALI|Angka Partisipasi...| 2017|      SD|99.44|\n",
      "|         BALI|Angka Partisipasi...| 2017|     SMA|82.16|\n",
      "|         BALI|Angka Partisipasi...| 2017|     SMP|97.72|\n",
      "|       BANTEN|Angka Partisipasi...| 2017|      PT|21.33|\n",
      "|       BANTEN|Angka Partisipasi...| 2017|      SD|99.31|\n",
      "|       BANTEN|Angka Partisipasi...| 2017|     SMA|67.77|\n",
      "|       BANTEN|Angka Partisipasi...| 2017|     SMP|95.67|\n",
      "|     BENGKULU|Angka Partisipasi...| 2017|      PT| 29.9|\n",
      "|     BENGKULU|Angka Partisipasi...| 2017|      SD| 99.8|\n",
      "|     BENGKULU|Angka Partisipasi...| 2017|     SMA|79.07|\n",
      "|     BENGKULU|Angka Partisipasi...| 2017|     SMP| 97.2|\n",
      "|DI YOGYAKARTA|Angka Partisipasi...| 2017|      PT|51.33|\n",
      "|DI YOGYAKARTA|Angka Partisipasi...| 2017|      SD|   80|\n",
      "|DI YOGYAKARTA|Angka Partisipasi...| 2017|     SMA|87.61|\n",
      "|DI YOGYAKARTA|Angka Partisipasi...| 2017|     SMP|99.63|\n",
      "+-------------+--------------------+-----+--------+-----+\n",
      "only showing top 20 rows\n",
      "\n"
     ]
    }
   ],
   "source": [
    "kelas = data.na.fill({'value':80})\n",
    "kelas.show()"
   ]
  },
  {
   "cell_type": "code",
   "execution_count": 33,
   "id": "abff8493",
   "metadata": {},
   "outputs": [
    {
     "name": "stdout",
     "output_type": "stream",
     "text": [
      "+--------+---+-----+--------+-----+\n",
      "|propinsi|var|tahun|variable|value|\n",
      "+--------+---+-----+--------+-----+\n",
      "+--------+---+-----+--------+-----+\n",
      "\n",
      "+-------------+--------------------+-----+--------+-----+\n",
      "|     propinsi|                 var|tahun|variable|value|\n",
      "+-------------+--------------------+-----+--------+-----+\n",
      "|DI YOGYAKARTA|Angka Partisipasi...| 2017|      PT|51.33|\n",
      "|DI YOGYAKARTA|Angka Partisipasi...| 2017|      SD|   80|\n",
      "|DI YOGYAKARTA|Angka Partisipasi...| 2017|     SMA|87.61|\n",
      "|DI YOGYAKARTA|Angka Partisipasi...| 2017|     SMP|99.63|\n",
      "+-------------+--------------------+-----+--------+-----+\n",
      "\n"
     ]
    }
   ],
   "source": [
    "kelas.where('value is null').show()\n",
    "kelas.where(\"propinsi = 'DI YOGYAKARTA'\").show()"
   ]
  },
  {
   "cell_type": "code",
   "execution_count": 34,
   "id": "9c1f8a1e",
   "metadata": {},
   "outputs": [
    {
     "name": "stdout",
     "output_type": "stream",
     "text": [
      "+-------------+--------------------+-----+--------+-----+\n",
      "|     propinsi|                 var|tahun|variable|value|\n",
      "+-------------+--------------------+-----+--------+-----+\n",
      "|DI YOGYAKARTA|Angka Partisipasi...| 2017|      PT|  100|\n",
      "|DI YOGYAKARTA|Angka Partisipasi...| 2017|      SD|  100|\n",
      "|DI YOGYAKARTA|Angka Partisipasi...| 2017|     SMA|  100|\n",
      "|DI YOGYAKARTA|Angka Partisipasi...| 2017|     SMP|  100|\n",
      "+-------------+--------------------+-----+--------+-----+\n",
      "\n"
     ]
    }
   ],
   "source": [
    "from pyspark.sql import functions as f\n",
    "dsedit = dsnona.withColumn('value',f.when(dsnona.propinsi == 'DI YOGYAKARTA',100).otherwise(dsnona.value))\n",
    "dsedit.where(\"propinsi = 'DI YOGYAKARTA'\").show()"
   ]
  }
 ],
 "metadata": {
  "kernelspec": {
   "display_name": "Python 3 (ipykernel)",
   "language": "python",
   "name": "python3"
  },
  "language_info": {
   "codemirror_mode": {
    "name": "ipython",
    "version": 3
   },
   "file_extension": ".py",
   "mimetype": "text/x-python",
   "name": "python",
   "nbconvert_exporter": "python",
   "pygments_lexer": "ipython3",
   "version": "3.9.12"
  }
 },
 "nbformat": 4,
 "nbformat_minor": 5
}
